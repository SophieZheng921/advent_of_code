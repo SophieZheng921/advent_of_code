{
 "cells": [
  {
   "cell_type": "code",
   "execution_count": 1,
   "metadata": {},
   "outputs": [],
   "source": [
    "import polars as pl"
   ]
  },
  {
   "cell_type": "code",
   "execution_count": 54,
   "metadata": {},
   "outputs": [
    {
     "data": {
      "text/html": [
       "<div><style>\n",
       ".dataframe > thead > tr > th,\n",
       ".dataframe > tbody > tr > td {\n",
       "  text-align: right;\n",
       "}\n",
       "</style>\n",
       "<small>shape: (1_000, 1)</small><table border=\"1\" class=\"dataframe\"><thead><tr><th>name</th></tr><tr><td>str</td></tr></thead><tbody><tr><td>&quot;74 76 78 79 76…</td></tr><tr><td>&quot;38 40 43 44 44…</td></tr><tr><td>&quot;1 2 4 6 8 9 13…</td></tr><tr><td>&quot;65 68 70 72 75…</td></tr><tr><td>&quot;89 91 92 95 93…</td></tr><tr><td>&quot;15 17 16 18 19…</td></tr><tr><td>&quot;46 47 45 48 51…</td></tr><tr><td>&quot;77 78 79 82 79…</td></tr><tr><td>&quot;55 58 59 57 60…</td></tr><tr><td>&quot;79 82 84 84 85…</td></tr><tr><td>&quot;23 24 25 25 23…</td></tr><tr><td>&quot;23 26 27 28 31…</td></tr><tr><td>&hellip;</td></tr><tr><td>&quot;92 91 89 86 84…</td></tr><tr><td>&quot;31 33 36 37 40…</td></tr><tr><td>&quot;35 32 31 28 26…</td></tr><tr><td>&quot;62 61 60 59 57…</td></tr><tr><td>&quot;65 64 62 61 60…</td></tr><tr><td>&quot;78 76 75 73 71…</td></tr><tr><td>&quot;95 94 92 89 88…</td></tr><tr><td>&quot;54 51 50 47 46…</td></tr><tr><td>&quot;58 61 62 65 67…</td></tr><tr><td>&quot;40 37 34 33 32…</td></tr><tr><td>&quot;47 50 53 54 57…</td></tr><tr><td>&quot;59 58 55 53 52…</td></tr></tbody></table></div>"
      ],
      "text/plain": [
       "shape: (1_000, 1)\n",
       "┌─────────────────────────┐\n",
       "│ name                    │\n",
       "│ ---                     │\n",
       "│ str                     │\n",
       "╞═════════════════════════╡\n",
       "│ 74 76 78 79 76          │\n",
       "│ 38 40 43 44 44          │\n",
       "│ 1 2 4 6 8 9 13          │\n",
       "│ 65 68 70 72 75 76 81    │\n",
       "│ …                       │\n",
       "│ 58 61 62 65 67 70 73    │\n",
       "│ 40 37 34 33 32 31       │\n",
       "│ 47 50 53 54 57 58 60 61 │\n",
       "│ 59 58 55 53 52          │\n",
       "└─────────────────────────┘"
      ]
     },
     "execution_count": 54,
     "metadata": {},
     "output_type": "execute_result"
    }
   ],
   "source": [
    "datas=pl.read_csv(\"/Users/lihong.zheng/Projects/advent_of_code/day_2/data.csv\")\n",
    "datas"
   ]
  },
  {
   "cell_type": "code",
   "execution_count": 59,
   "metadata": {},
   "outputs": [
    {
     "name": "stdout",
     "output_type": "stream",
     "text": [
      "[74, 76, 78, 79, 76]\n"
     ]
    }
   ],
   "source": [
    "list=[]\n",
    "\n",
    "for index, string in enumerate(datas):\n",
    "    \n",
    "    for num in datas[index].get_column('name').to_list()[0].split(\" \"):\n",
    "        list.append(int(num))\n",
    "        \n",
    "    print(list)\n",
    "\n",
    "\n",
    "\n"
   ]
  },
  {
   "cell_type": "code",
   "execution_count": null,
   "metadata": {},
   "outputs": [
    {
     "name": "stdout",
     "output_type": "stream",
     "text": [
      "1\n",
      "2\n",
      "3\n",
      "3\n"
     ]
    }
   ],
   "source": [
    "sum=0\n",
    "for string in datas:\n",
    "        \n",
    "        for index in range(4):\n",
    "\n",
    "                if ((list[index]>list[index +1]) & (3 >= list[index +1]-list[index] >= 1)) | ((list[index +1]>list[index]) & (3 >= list[index +1]-list[index] >= 1)):\n",
    "                        sum+=1\n",
    "                else:\n",
    "                        pass\n",
    "print(sum)\n",
    "\n",
    "\n"
   ]
  }
 ],
 "metadata": {
  "kernelspec": {
   "display_name": ".venv",
   "language": "python",
   "name": "python3"
  },
  "language_info": {
   "codemirror_mode": {
    "name": "ipython",
    "version": 3
   },
   "file_extension": ".py",
   "mimetype": "text/x-python",
   "name": "python",
   "nbconvert_exporter": "python",
   "pygments_lexer": "ipython3",
   "version": "3.11.10"
  }
 },
 "nbformat": 4,
 "nbformat_minor": 2
}
